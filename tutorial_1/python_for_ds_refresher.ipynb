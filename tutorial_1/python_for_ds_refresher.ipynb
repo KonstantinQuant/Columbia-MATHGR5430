{
  "nbformat": 4,
  "nbformat_minor": 0,
  "metadata": {
    "colab": {
      "name": "python-for-ds-refresher.ipynb",
      "provenance": [],
      "collapsed_sections": []
    },
    "kernelspec": {
      "name": "python3",
      "display_name": "Python 3"
    },
    "language_info": {
      "name": "python"
    }
  },
  "cells": [
    {
      "cell_type": "markdown",
      "source": [
        "### 1.1 Things to note:\n",
        "- Python is an interpreted language, not compiled (you can run it line by line)\n",
        "- No type declaration at interpretation time (happens at runtime)"
      ],
      "metadata": {
        "id": "1k5z6_cgevv-"
      }
    },
    {
      "cell_type": "markdown",
      "source": [
        "## 2. Data Types"
      ],
      "metadata": {
        "id": "u_ZYx0VJf2Dc"
      }
    },
    {
      "cell_type": "markdown",
      "source": [
        "### 2.1 Numbers\n",
        "\n",
        "In python, there is basically only float and int"
      ],
      "metadata": {
        "id": "alPHWYTrfV6p"
      }
    },
    {
      "cell_type": "code",
      "execution_count": 7,
      "metadata": {
        "colab": {
          "base_uri": "https://localhost:8080/"
        },
        "id": "Ojx_nFWqer22",
        "outputId": "d760834d-5405-4396-c1a5-6de3e0e388b6"
      },
      "outputs": [
        {
          "output_type": "execute_result",
          "data": {
            "text/plain": [
              "5.666666666666667"
            ]
          },
          "metadata": {},
          "execution_count": 7
        }
      ],
      "source": [
        "17 / 3 # Division always returns float"
      ]
    },
    {
      "cell_type": "code",
      "source": [
        "17 // 3 # Flooring"
      ],
      "metadata": {
        "colab": {
          "base_uri": "https://localhost:8080/"
        },
        "id": "wY2QEhrufpsG",
        "outputId": "ceea3081-6570-4339-c988-056c07ff6fae"
      },
      "execution_count": 3,
      "outputs": [
        {
          "output_type": "execute_result",
          "data": {
            "text/plain": [
              "5"
            ]
          },
          "metadata": {},
          "execution_count": 3
        }
      ]
    },
    {
      "cell_type": "code",
      "source": [
        "17 % 3"
      ],
      "metadata": {
        "colab": {
          "base_uri": "https://localhost:8080/"
        },
        "id": "IszRJx0VgCCX",
        "outputId": "78769568-0e6a-44bc-f675-a0b2eba4be51"
      },
      "execution_count": 4,
      "outputs": [
        {
          "output_type": "execute_result",
          "data": {
            "text/plain": [
              "2"
            ]
          },
          "metadata": {},
          "execution_count": 4
        }
      ]
    },
    {
      "cell_type": "code",
      "source": [
        "17 ** 3"
      ],
      "metadata": {
        "colab": {
          "base_uri": "https://localhost:8080/"
        },
        "id": "WUz39n2VgGUq",
        "outputId": "9254ea42-8942-496c-d9a2-63075e6ebb88"
      },
      "execution_count": 5,
      "outputs": [
        {
          "output_type": "execute_result",
          "data": {
            "text/plain": [
              "4913"
            ]
          },
          "metadata": {},
          "execution_count": 5
        }
      ]
    },
    {
      "cell_type": "code",
      "source": [
        "4 + _"
      ],
      "metadata": {
        "colab": {
          "base_uri": "https://localhost:8080/"
        },
        "id": "MWme80-sfhXJ",
        "outputId": "91e54921-0c9b-4094-b187-fc83f1e1c38f"
      },
      "execution_count": 6,
      "outputs": [
        {
          "output_type": "execute_result",
          "data": {
            "text/plain": [
              "4917"
            ]
          },
          "metadata": {},
          "execution_count": 6
        }
      ]
    },
    {
      "cell_type": "markdown",
      "source": [
        "### 2.2 Strings\n",
        "\n",
        "Basically what usually denotes a char 'c' can also and is also\n",
        "used for strings in python"
      ],
      "metadata": {
        "id": "LLzh6krvggte"
      }
    },
    {
      "cell_type": "code",
      "source": [
        "print('Hello, world!')\n",
        "print(\"Hello, world!\")\n",
        "print(\"Hello,\",\"world!\")\n",
        "\n",
        "# Concatenation\n",
        "_ = \"Hello,\" + \" \" + \"world!\"\n",
        "_"
      ],
      "metadata": {
        "colab": {
          "base_uri": "https://localhost:8080/",
          "height": 88
        },
        "id": "DDjpkY1rfkKh",
        "outputId": "e2922ddf-f3cd-4194-d53b-d94ef00667f3"
      },
      "execution_count": 18,
      "outputs": [
        {
          "output_type": "stream",
          "name": "stdout",
          "text": [
            "Hello, world!\n",
            "Hello, world!\n",
            "Hello, world!\n"
          ]
        },
        {
          "output_type": "execute_result",
          "data": {
            "application/vnd.google.colaboratory.intrinsic+json": {
              "type": "string"
            },
            "text/plain": [
              "'Hello, world!'"
            ]
          },
          "metadata": {},
          "execution_count": 18
        }
      ]
    },
    {
      "cell_type": "code",
      "source": [
        "x = \"Hello, world!\"\n",
        "x[5:]"
      ],
      "metadata": {
        "colab": {
          "base_uri": "https://localhost:8080/",
          "height": 37
        },
        "id": "DGPcVy8nhGdn",
        "outputId": "aa43f39c-548b-4007-94c0-9d740e2efacf"
      },
      "execution_count": 23,
      "outputs": [
        {
          "output_type": "execute_result",
          "data": {
            "application/vnd.google.colaboratory.intrinsic+json": {
              "type": "string"
            },
            "text/plain": [
              "', world!'"
            ]
          },
          "metadata": {},
          "execution_count": 23
        }
      ]
    },
    {
      "cell_type": "code",
      "source": [
        "x[:5]"
      ],
      "metadata": {
        "colab": {
          "base_uri": "https://localhost:8080/",
          "height": 37
        },
        "id": "H97F9x1Kh0V0",
        "outputId": "28665fe2-92c1-4ef0-bf61-04463860030c"
      },
      "execution_count": 24,
      "outputs": [
        {
          "output_type": "execute_result",
          "data": {
            "application/vnd.google.colaboratory.intrinsic+json": {
              "type": "string"
            },
            "text/plain": [
              "'Hello'"
            ]
          },
          "metadata": {},
          "execution_count": 24
        }
      ]
    },
    {
      "cell_type": "code",
      "source": [
        "x[-3:]"
      ],
      "metadata": {
        "colab": {
          "base_uri": "https://localhost:8080/",
          "height": 37
        },
        "id": "OC8fiXNTh3hb",
        "outputId": "3b3149bd-5efa-4117-d74d-58b0658301e1"
      },
      "execution_count": 25,
      "outputs": [
        {
          "output_type": "execute_result",
          "data": {
            "application/vnd.google.colaboratory.intrinsic+json": {
              "type": "string"
            },
            "text/plain": [
              "'ld!'"
            ]
          },
          "metadata": {},
          "execution_count": 25
        }
      ]
    },
    {
      "cell_type": "markdown",
      "source": [
        "### 2.3 Lists\n",
        "\n",
        "A list in Python is basically a dynamic array that can hold multiple data types\n",
        "(You will use this the most:D)"
      ],
      "metadata": {
        "id": "cpuj5v1CiPTp"
      }
    },
    {
      "cell_type": "code",
      "source": [
        "class A:\n",
        "  def __init__(self):\n",
        "    print(\"A\")\n",
        "\n",
        "class B:\n",
        "  def __init__(self):\n",
        "    print(\"B\")\n",
        "\n",
        "x1 = list()\n",
        "x1.append(A())\n",
        "x1.append(B())\n",
        "\n",
        "x2 = [A(), B()]\n",
        "print(x1)\n",
        "print(x2)"
      ],
      "metadata": {
        "colab": {
          "base_uri": "https://localhost:8080/"
        },
        "id": "pOUWNF-ih8zS",
        "outputId": "4f72df91-f5a1-45da-f338-33602a54f313"
      },
      "execution_count": 46,
      "outputs": [
        {
          "output_type": "stream",
          "name": "stdout",
          "text": [
            "A\n",
            "B\n",
            "A\n",
            "B\n",
            "[<__main__.A object at 0x7f7674e93810>, <__main__.B object at 0x7f7674fafe90>]\n",
            "[<__main__.A object at 0x7f7674faffd0>, <__main__.B object at 0x7f7674e41850>]\n"
          ]
        }
      ]
    },
    {
      "cell_type": "code",
      "source": [
        "# Indexing works the same:\n",
        "print(x1[1:])\n",
        "print(x2[0])\n",
        "\n",
        "print(len(x2))"
      ],
      "metadata": {
        "colab": {
          "base_uri": "https://localhost:8080/"
        },
        "id": "jWR2TNWmi-Vg",
        "outputId": "ad61ff7d-3abe-4dee-c477-a75a7f5ed156"
      },
      "execution_count": 47,
      "outputs": [
        {
          "output_type": "stream",
          "name": "stdout",
          "text": [
            "[<__main__.B object at 0x7f7674fafe90>]\n",
            "<__main__.A object at 0x7f7674faffd0>\n",
            "2\n"
          ]
        }
      ]
    },
    {
      "cell_type": "code",
      "source": [
        "x2.append(B())"
      ],
      "metadata": {
        "colab": {
          "base_uri": "https://localhost:8080/"
        },
        "id": "RN4Qvg74kI8F",
        "outputId": "47bd7a75-2387-48a7-d568-3e33df0895f0"
      },
      "execution_count": 48,
      "outputs": [
        {
          "output_type": "stream",
          "name": "stdout",
          "text": [
            "B\n"
          ]
        }
      ]
    },
    {
      "cell_type": "code",
      "source": [
        "print(x2)\n",
        "x2[1:3] = [A(), A()] # replace values\n",
        "print(x2)"
      ],
      "metadata": {
        "colab": {
          "base_uri": "https://localhost:8080/"
        },
        "id": "rOOCCoNSk7Ze",
        "outputId": "2de64805-6443-4080-ee06-5daac5034c49"
      },
      "execution_count": 49,
      "outputs": [
        {
          "output_type": "stream",
          "name": "stdout",
          "text": [
            "[<__main__.A object at 0x7f7674faffd0>, <__main__.B object at 0x7f7674e41850>, <__main__.B object at 0x7f7674e57f10>]\n",
            "A\n",
            "A\n",
            "[<__main__.A object at 0x7f7674faffd0>, <__main__.A object at 0x7f7674e57210>, <__main__.A object at 0x7f7674e57a10>]\n"
          ]
        }
      ]
    },
    {
      "cell_type": "code",
      "source": [
        "# there are also all the other well known methods like \n",
        "# pop(i) (pops element at i), \n",
        "# count(x) (counts occurences of element x),\n",
        "# sort(),\n",
        "# reverse(),\n",
        "# copy(),\n",
        "# insert(i, x) \n",
        "x2[:] = [] # clear the list\n",
        "print(x2)"
      ],
      "metadata": {
        "colab": {
          "base_uri": "https://localhost:8080/",
          "height": 198
        },
        "id": "jYrKrj5ilF2_",
        "outputId": "101432c2-d612-48ff-e45c-e2edafbb0c38"
      },
      "execution_count": 52,
      "outputs": [
        {
          "output_type": "error",
          "ename": "IndexError",
          "evalue": "ignored",
          "traceback": [
            "\u001b[0;31m---------------------------------------------------------------------------\u001b[0m",
            "\u001b[0;31mIndexError\u001b[0m                                Traceback (most recent call last)",
            "\u001b[0;32m<ipython-input-52-edbb5464c7ca>\u001b[0m in \u001b[0;36m<module>\u001b[0;34m()\u001b[0m\n\u001b[0;32m----> 1\u001b[0;31m \u001b[0mx2\u001b[0m\u001b[0;34m.\u001b[0m\u001b[0mpop\u001b[0m\u001b[0;34m(\u001b[0m\u001b[0;34m)\u001b[0m\u001b[0;34m\u001b[0m\u001b[0;34m\u001b[0m\u001b[0m\n\u001b[0m\u001b[1;32m      2\u001b[0m \u001b[0mx2\u001b[0m\u001b[0;34m[\u001b[0m\u001b[0;34m:\u001b[0m\u001b[0;34m]\u001b[0m \u001b[0;34m=\u001b[0m \u001b[0;34m[\u001b[0m\u001b[0;34m]\u001b[0m \u001b[0;31m# clear the list\u001b[0m\u001b[0;34m\u001b[0m\u001b[0;34m\u001b[0m\u001b[0m\n\u001b[1;32m      3\u001b[0m \u001b[0mprint\u001b[0m\u001b[0;34m(\u001b[0m\u001b[0mx2\u001b[0m\u001b[0;34m)\u001b[0m\u001b[0;34m\u001b[0m\u001b[0;34m\u001b[0m\u001b[0m\n",
            "\u001b[0;31mIndexError\u001b[0m: pop from empty list"
          ]
        }
      ]
    },
    {
      "cell_type": "markdown",
      "source": [
        "### 2.3 Stacks\n",
        "\n",
        "\"Abuse\" a list to use as stack that can only pop and append...  \n",
        "\n",
        "LiFo-Stack:"
      ],
      "metadata": {
        "id": "D7zZmMc0lcOU"
      }
    },
    {
      "cell_type": "code",
      "source": [
        "stack = [1,2]\n",
        "stack.append(3)\n",
        "stack.append(4)\n",
        "print(stack)"
      ],
      "metadata": {
        "colab": {
          "base_uri": "https://localhost:8080/"
        },
        "id": "wenOjRRklY5V",
        "outputId": "eee712f0-befa-4156-c865-80545fa0005d"
      },
      "execution_count": 53,
      "outputs": [
        {
          "output_type": "stream",
          "name": "stdout",
          "text": [
            "[1, 2, 3, 4]\n"
          ]
        }
      ]
    },
    {
      "cell_type": "code",
      "source": [
        "stack.pop()"
      ],
      "metadata": {
        "colab": {
          "base_uri": "https://localhost:8080/"
        },
        "id": "y-b1sTvumg7R",
        "outputId": "de16d4f2-695d-477b-e0d0-03494c296a28"
      },
      "execution_count": 54,
      "outputs": [
        {
          "output_type": "execute_result",
          "data": {
            "text/plain": [
              "4"
            ]
          },
          "metadata": {},
          "execution_count": 54
        }
      ]
    },
    {
      "cell_type": "markdown",
      "source": [
        "### 2.4 Tuple\n",
        "\n",
        "Warning: In python not only length 2   \n",
        "\n",
        "- List of comma separated values (1,2,3,4)  \n",
        "- Tuples are immutable (and usually contains different types)\n",
        "  -> But can contain mutable objects\n",
        "- Lists are mutable (and usually contain the same elements)\n",
        "\n"
      ],
      "metadata": {
        "id": "BCuHB0RVm0jC"
      }
    },
    {
      "cell_type": "code",
      "source": [
        "tuple_ = 1,2,3,4"
      ],
      "metadata": {
        "id": "1AyDefOEm0O4"
      },
      "execution_count": 55,
      "outputs": []
    },
    {
      "cell_type": "code",
      "source": [
        "tuple_"
      ],
      "metadata": {
        "colab": {
          "base_uri": "https://localhost:8080/"
        },
        "id": "DpqQZssHmihv",
        "outputId": "bdbb9eb6-9618-4f02-a6f1-1a76964f8b2a"
      },
      "execution_count": 56,
      "outputs": [
        {
          "output_type": "execute_result",
          "data": {
            "text/plain": [
              "(1, 2, 3, 4)"
            ]
          },
          "metadata": {},
          "execution_count": 56
        }
      ]
    },
    {
      "cell_type": "code",
      "source": [
        "# tuple_[3] = 5 # this will purposely create an error"
      ],
      "metadata": {
        "id": "M0EAdn0_nswj"
      },
      "execution_count": 58,
      "outputs": []
    },
    {
      "cell_type": "code",
      "source": [
        "# usual use case:\n",
        "tuple2 = (1, A())\n",
        "tuple2"
      ],
      "metadata": {
        "colab": {
          "base_uri": "https://localhost:8080/"
        },
        "id": "jggqoUlwnu3d",
        "outputId": "aaa5812c-71dc-4297-adc2-cfe2420f7aa3"
      },
      "execution_count": 60,
      "outputs": [
        {
          "output_type": "stream",
          "name": "stdout",
          "text": [
            "A\n"
          ]
        },
        {
          "output_type": "execute_result",
          "data": {
            "text/plain": [
              "(1, <__main__.A at 0x7f7674e58bd0>)"
            ]
          },
          "metadata": {},
          "execution_count": 60
        }
      ]
    },
    {
      "cell_type": "markdown",
      "source": [
        "### 2.5 Set\n",
        "\n",
        "\"A mathematical list\", very useful\n",
        "\n",
        "\n",
        "\n",
        "*   Cannot contain duplicate elements -> will be removed upon creation\n",
        "*   Support the common set operations: union, intersection, difference, symmetric difference\n",
        "\n",
        "\n",
        "\n",
        "\n",
        "\n",
        "\n"
      ],
      "metadata": {
        "id": "bFrnOPfdoTj-"
      }
    },
    {
      "cell_type": "code",
      "source": [
        "set_ = set() # empty set"
      ],
      "metadata": {
        "id": "DaqNzn01oS1H"
      },
      "execution_count": 63,
      "outputs": []
    },
    {
      "cell_type": "code",
      "source": [
        "apple = { \"MBP\", \"iPad\", \"iPhone\", \"AirPods\" }"
      ],
      "metadata": {
        "id": "88-HvBKPo_R-"
      },
      "execution_count": 65,
      "outputs": []
    },
    {
      "cell_type": "code",
      "source": [
        "\"Apple Pen\" in apple # test membership"
      ],
      "metadata": {
        "colab": {
          "base_uri": "https://localhost:8080/"
        },
        "id": "wCucPSaBpJNU",
        "outputId": "deb0164e-b928-43e5-a56b-a6f3e23ce1e1"
      },
      "execution_count": 68,
      "outputs": [
        {
          "output_type": "execute_result",
          "data": {
            "text/plain": [
              "False"
            ]
          },
          "metadata": {},
          "execution_count": 68
        }
      ]
    },
    {
      "cell_type": "code",
      "source": [
        "a = set('abracadabra')\n",
        "b = set('alacazam')\n",
        "a                                  # unique letters in a\n",
        "# {'a', 'r', 'b', 'c', 'd'}\n",
        "a - b                              # letters in a but not in b\n",
        "# {'r', 'd', 'b'}\n",
        "a | b                              # letters in a or b or both\n",
        "# {'a', 'c', 'r', 'd', 'b', 'm', 'z', 'l'}\n",
        "a & b                              # letters in both a and b\n",
        "# {'a', 'c'}\n",
        "a ^ b                              # letters in a or b but not both\n",
        "# {'b', 'd', 'l', 'm', 'r', 'z'}"
      ],
      "metadata": {
        "colab": {
          "base_uri": "https://localhost:8080/"
        },
        "id": "CB4mQ53xpdjp",
        "outputId": "a9c62c6b-45fe-4db5-ce75-ea4c6abbd0e5"
      },
      "execution_count": 70,
      "outputs": [
        {
          "output_type": "execute_result",
          "data": {
            "text/plain": [
              "{'b', 'd', 'l', 'm', 'r', 'z'}"
            ]
          },
          "metadata": {},
          "execution_count": 70
        }
      ]
    },
    {
      "cell_type": "markdown",
      "source": [
        "### 2.6 Dictionaries\n",
        "\n",
        "Store (key, value) tuples"
      ],
      "metadata": {
        "id": "PSpmBl6dqAtG"
      }
    },
    {
      "cell_type": "code",
      "source": [
        "math_gr5430 = {\n",
        "    \"student_1\": 1234,\n",
        "    \"student_2\": 5678,\n",
        "}"
      ],
      "metadata": {
        "id": "h4Rj0K7MpyYx"
      },
      "execution_count": 72,
      "outputs": []
    },
    {
      "cell_type": "code",
      "source": [
        "math_gr5430[\"student_1\"]"
      ],
      "metadata": {
        "colab": {
          "base_uri": "https://localhost:8080/"
        },
        "id": "HKHky1hcqRb2",
        "outputId": "cf326f79-b4d4-4817-d65e-837351e4b912"
      },
      "execution_count": 73,
      "outputs": [
        {
          "output_type": "execute_result",
          "data": {
            "text/plain": [
              "1234"
            ]
          },
          "metadata": {},
          "execution_count": 73
        }
      ]
    },
    {
      "cell_type": "code",
      "source": [
        "for (k,v) in math_gr5430.items():\n",
        "  print(k,v)"
      ],
      "metadata": {
        "colab": {
          "base_uri": "https://localhost:8080/"
        },
        "id": "NQqFYizdqZEP",
        "outputId": "0dbe1e16-fac0-4b3d-a245-274cb6a991d5"
      },
      "execution_count": 74,
      "outputs": [
        {
          "output_type": "stream",
          "name": "stdout",
          "text": [
            "student_1 1234\n",
            "student_2 5678\n"
          ]
        }
      ]
    },
    {
      "cell_type": "code",
      "source": [
        "for (i, v) in enumerate(math_gr5430):\n",
        "  print(i,v)"
      ],
      "metadata": {
        "colab": {
          "base_uri": "https://localhost:8080/"
        },
        "id": "5ZxmVgYHqgIc",
        "outputId": "65f12ca5-8a49-4687-afcf-709154ca98f7"
      },
      "execution_count": 78,
      "outputs": [
        {
          "output_type": "stream",
          "name": "stdout",
          "text": [
            "0 student_1\n",
            "1 student_2\n"
          ]
        }
      ]
    },
    {
      "cell_type": "markdown",
      "source": [
        "## 3. Control Flow"
      ],
      "metadata": {
        "id": "lACKeieRq16H"
      }
    },
    {
      "cell_type": "markdown",
      "source": [
        "### 3.1 if statements"
      ],
      "metadata": {
        "id": "7-UoCrooQmzV"
      }
    },
    {
      "cell_type": "code",
      "source": [
        "a = 3\n",
        "if a > 0:\n",
        "  print(\"Positive\")\n",
        "elif a < 0:\n",
        "  print(\"Negative\") # gets only called if 1st condition is false\n",
        "else:\n",
        "  print(\"Zero\")"
      ],
      "metadata": {
        "colab": {
          "base_uri": "https://localhost:8080/"
        },
        "id": "gXxJ5THwqq2Z",
        "outputId": "4ce5d7b1-b5f0-4d8c-d9c8-f0398bcb20f4"
      },
      "execution_count": 1,
      "outputs": [
        {
          "output_type": "stream",
          "name": "stdout",
          "text": [
            "Positive\n"
          ]
        }
      ]
    },
    {
      "cell_type": "markdown",
      "source": [
        "### 3.2 For-Loops"
      ],
      "metadata": {
        "id": "VUKxaP4oRbrT"
      }
    },
    {
      "cell_type": "code",
      "source": [
        "numbers = [1,2,3,4,5]\n",
        "for number in numbers:\n",
        "  print(number)\n",
        "\n",
        "for i in range(len(numbers)):\n",
        "  print(i, numbers[i])\n",
        "\n",
        "list(range(4, 10)) # 4,5,6,7,8,9"
      ],
      "metadata": {
        "colab": {
          "base_uri": "https://localhost:8080/"
        },
        "id": "SbIxPwLyRT_h",
        "outputId": "31374aa7-19a9-4426-a02d-478774fbc386"
      },
      "execution_count": 7,
      "outputs": [
        {
          "output_type": "stream",
          "name": "stdout",
          "text": [
            "1\n",
            "2\n",
            "3\n",
            "4\n",
            "5\n",
            "0 1\n",
            "1 2\n",
            "2 3\n",
            "3 4\n",
            "4 5\n"
          ]
        },
        {
          "output_type": "execute_result",
          "data": {
            "text/plain": [
              "[4, 5, 6, 7, 8, 9]"
            ]
          },
          "metadata": {},
          "execution_count": 7
        }
      ]
    },
    {
      "cell_type": "code",
      "source": [
        "# break: breaks out of innermost loop that contains it\n",
        "# continue: continues with next iteration"
      ],
      "metadata": {
        "id": "rtKchr56R8f8"
      },
      "execution_count": null,
      "outputs": []
    },
    {
      "cell_type": "markdown",
      "source": [
        "### 3.3 While-Loops"
      ],
      "metadata": {
        "id": "FVkwLotnTR9x"
      }
    },
    {
      "cell_type": "code",
      "source": [
        "while True:\n",
        "  pass"
      ],
      "metadata": {
        "colab": {
          "base_uri": "https://localhost:8080/",
          "height": 181
        },
        "id": "oqQZwixHTRHz",
        "outputId": "cac6f2a5-8ff9-4dc4-8cb1-7295d6eea141"
      },
      "execution_count": 8,
      "outputs": [
        {
          "output_type": "error",
          "ename": "KeyboardInterrupt",
          "evalue": "ignored",
          "traceback": [
            "\u001b[0;31m---------------------------------------------------------------------------\u001b[0m",
            "\u001b[0;31mKeyboardInterrupt\u001b[0m                         Traceback (most recent call last)",
            "\u001b[0;32m<ipython-input-8-648a2bab0435>\u001b[0m in \u001b[0;36m<module>\u001b[0;34m()\u001b[0m\n\u001b[1;32m      1\u001b[0m \u001b[0;32mwhile\u001b[0m \u001b[0;32mTrue\u001b[0m\u001b[0;34m:\u001b[0m\u001b[0;34m\u001b[0m\u001b[0;34m\u001b[0m\u001b[0m\n\u001b[0;32m----> 2\u001b[0;31m   \u001b[0;32mpass\u001b[0m\u001b[0;34m\u001b[0m\u001b[0;34m\u001b[0m\u001b[0m\n\u001b[0m",
            "\u001b[0;31mKeyboardInterrupt\u001b[0m: "
          ]
        }
      ]
    },
    {
      "cell_type": "markdown",
      "source": [
        "### 4. Functions"
      ],
      "metadata": {
        "id": "wbZUZKn9TkwA"
      }
    },
    {
      "cell_type": "markdown",
      "source": [
        "def name(argument1, argument2=value):    \n",
        "> pass          \n",
        "\n",
        "\n",
        "where argument 2 is an optional.\n",
        "\n",
        "Best practices:"
      ],
      "metadata": {
        "id": "m-Iq4JqIUE5_"
      }
    },
    {
      "cell_type": "code",
      "source": [
        "def splitData(series, splitPercent=0.8, vsplitPercent=0.2):\n",
        "    \"\"\"\n",
        "    splitData splits time series data into three partition dataset\n",
        "\n",
        "    :param series: a series of numerical values to be split\n",
        "    :param splitPercent: optional, the size of the test data compared to the total data in length, is .8 by default\n",
        "                         the size of the test dataset is floored through integer casting\n",
        "    :param vsplitPercent: optional, the percent of the already splitted testdata that is validation data, .2 by default\n",
        "    :return: returns the train, validation and test datasets\n",
        "    \"\"\" \n",
        "    rowCount = len(series)\n",
        "    trainAndValSize = int(rowCount * splitPercent) # The trainsize is the floored length(data) * the split %\n",
        "    trainSize = int(trainAndValSize * (1-vsplitPercent))\n",
        "    testSize = (rowCount-trainAndValSize)\n",
        "    valSize = trainAndValSize-trainSize \n",
        "    \n",
        "    train = series[:trainSize] # The training dataset is all data until the trainSize\n",
        "    val = series[trainSize:trainAndValSize]\n",
        "    test = series[-testSize:] # The test dataset is all data from the trainSize\n",
        "    print(\"Data was successfully split from \" + str(rowCount) + \" into \", end='')\n",
        "    print(\"Train: \" + str(len(train)), end=' ')\n",
        "    print(\"Test: \" + str(len(test)), end=' ')\n",
        "    print(\"Validation: \" + str(len(val)))\n",
        "    return train, test, val"
      ],
      "metadata": {
        "id": "3QkZ5Q4dTYOi"
      },
      "execution_count": 18,
      "outputs": []
    },
    {
      "cell_type": "code",
      "source": [
        "print(splitData.__doc__)"
      ],
      "metadata": {
        "colab": {
          "base_uri": "https://localhost:8080/"
        },
        "id": "yTNnXtAWao32",
        "outputId": "3957569c-c002-4bd3-df05-e1a9ccba3332"
      },
      "execution_count": 20,
      "outputs": [
        {
          "output_type": "stream",
          "name": "stdout",
          "text": [
            "\n",
            "    splitData splits time series data into three partition dataset\n",
            "\n",
            "    :param series: a series of numerical values to be split\n",
            "    :param splitPercent: optional, the size of the test data compared to the total data in length, is 0.8 by default\n",
            "                         the size of the test dataset is floored through integer casting\n",
            "    :param vsplitPercent: the percent of the already splitted testdata that is validation data\n",
            "    :return: returns the train, validation and test datasets\n",
            "    \n"
          ]
        }
      ]
    },
    {
      "cell_type": "code",
      "source": [
        "import numpy as np\n",
        "train, test, val = splitData(series=np.arange(50))"
      ],
      "metadata": {
        "colab": {
          "base_uri": "https://localhost:8080/"
        },
        "id": "OhmmcE9bUWOs",
        "outputId": "06de5ce9-3d8b-470e-c13b-82002c9916c0"
      },
      "execution_count": 19,
      "outputs": [
        {
          "output_type": "stream",
          "name": "stdout",
          "text": [
            "Data was successfully split from 50 into Train: 32 Test: 10 Validation: 8\n"
          ]
        }
      ]
    },
    {
      "cell_type": "markdown",
      "source": [
        "Theoretically, you can explicitly set the types for a more usual,       \n",
        "object oriented compiler language style."
      ],
      "metadata": {
        "id": "EP-KWcO8boba"
      }
    },
    {
      "cell_type": "code",
      "source": [
        "def subtract(minuend: float, subtrahend: float) -> float:\n",
        "  return minuend - subtrahend"
      ],
      "metadata": {
        "id": "EDtnRyUoZbuI"
      },
      "execution_count": 21,
      "outputs": []
    },
    {
      "cell_type": "code",
      "source": [
        "subtract(10,5)"
      ],
      "metadata": {
        "colab": {
          "base_uri": "https://localhost:8080/"
        },
        "id": "5suHnNMWbkMa",
        "outputId": "de891670-bebd-4bb6-ab1a-4347d35c5db3"
      },
      "execution_count": 22,
      "outputs": [
        {
          "output_type": "execute_result",
          "data": {
            "text/plain": [
              "5"
            ]
          },
          "metadata": {},
          "execution_count": 22
        }
      ]
    },
    {
      "cell_type": "code",
      "source": [
        "subtract.__annotations__"
      ],
      "metadata": {
        "colab": {
          "base_uri": "https://localhost:8080/"
        },
        "id": "vvLn43-_blwB",
        "outputId": "e25dee4f-aa13-4505-d63c-1b9f3403ecfc"
      },
      "execution_count": 23,
      "outputs": [
        {
          "output_type": "execute_result",
          "data": {
            "text/plain": [
              "{'minuend': float, 'return': float, 'subtrahend': float}"
            ]
          },
          "metadata": {},
          "execution_count": 23
        }
      ]
    },
    {
      "cell_type": "markdown",
      "source": [
        "### 5. Simple Classes and simple Inheritance\n",
        "\n",
        "The object-oriented part of python is not that relevant for      \n",
        "data science and the scope of this course, but for completeness a simple  class      \n",
        "could look like the following:            "
      ],
      "metadata": {
        "id": "hDTz14vZcI0m"
      }
    },
    {
      "cell_type": "code",
      "source": [
        "class Vehicle:\n",
        "  def __init__(self, speed): # is called automatically upon creation\n",
        "    self.speed = speed # in mph\n",
        "    self.y = 0\n",
        "    self.x = 0\n",
        "        \n",
        "  def move_right(self, distance: int):\n",
        "    self.x + abs(distance)"
      ],
      "metadata": {
        "id": "W6Y6VpdZbnKN"
      },
      "execution_count": 26,
      "outputs": []
    },
    {
      "cell_type": "code",
      "source": [
        "class Horse(Vehicle):\n",
        "  max_calories = 10_000 # assuming all horses eat a maximum of 10k calories, is a static variable\n",
        "\n",
        "  def __init__(self, speed, calories):\n",
        "    super().__init__(speed)\n",
        "    self.is_happy = True\n",
        "    self.calories = calories\n",
        "\n",
        "  def move_right(self, distance: float):\n",
        "    if self.is_happy and self.calories > 0:\n",
        "      self.x += abs(distance)\n",
        "      self.calories - (Horse.max_calories * distance ** 2)\n",
        "      print(\"New Position:\", \"(\",self.x, \",\",self.y,\")\", \"Calories left:\", self.calories)\n",
        "    else:\n",
        "      print(\"FoodException\")"
      ],
      "metadata": {
        "id": "skXWIS0zdhJt"
      },
      "execution_count": 36,
      "outputs": []
    },
    {
      "cell_type": "code",
      "source": [
        "Horse(50, 7000).move_right(100)"
      ],
      "metadata": {
        "colab": {
          "base_uri": "https://localhost:8080/"
        },
        "id": "jRXeRvROflkz",
        "outputId": "182d5459-c4b7-481e-f93a-4d36d2d0f845"
      },
      "execution_count": 37,
      "outputs": [
        {
          "output_type": "stream",
          "name": "stdout",
          "text": [
            "New Position: ( 100 , 0 ) Calories left: 7000\n"
          ]
        }
      ]
    },
    {
      "cell_type": "code",
      "source": [
        ""
      ],
      "metadata": {
        "id": "bo17oyP7gZER"
      },
      "execution_count": null,
      "outputs": []
    }
  ]
}